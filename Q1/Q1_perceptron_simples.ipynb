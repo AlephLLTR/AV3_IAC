{
 "cells": [
  {
   "cell_type": "markdown",
   "metadata": {},
   "source": [
    "Modelo Perceptron Simples"
   ]
  },
  {
   "cell_type": "code",
   "execution_count": 29,
   "metadata": {},
   "outputs": [],
   "source": [
    "# Importações\n",
    "import numpy as np\n",
    "import matplotlib.pyplot as plt\n",
    "import seaborn as sns"
   ]
  },
  {
   "cell_type": "code",
   "execution_count": 30,
   "metadata": {},
   "outputs": [],
   "source": [
    "# Definições\n",
    "filepath = \"../Datasets/spiral.csv\"\n",
    "data = np.loadtxt(filepath, delimiter=\",\")\n",
    "results = []\n",
    "epochs = 500\n",
    "p, N, C = 2, 2000, 2\n",
    "lr = 0.1 # Taxa de Aprendizado\n",
    "size = 0.8 # Tamanho da Amostra de Treinamento"
   ]
  },
  {
   "cell_type": "code",
   "execution_count": 31,
   "metadata": {},
   "outputs": [],
   "source": [
    "# Função Sinal\n",
    "def sign(u):\n",
    "    return 1 if u >= 0 else -1"
   ]
  },
  {
   "cell_type": "code",
   "execution_count": 32,
   "metadata": {},
   "outputs": [],
   "source": [
    "# Definições iniciais de X, W e Y\n",
    "X = np.concatenate((data[data[:, 2] == 1, 0], data[data[:, 2] == -1, 0]))\n",
    "X = 2 * ((X - np.min(X)) / (np.max(X, axis=0) - np.min(X, axis=0))) - 1\n",
    "\n",
    "W = np.concatenate((data[data[:, 2] == 1, 1], data[data[:, 2] == -1, 1]))\n",
    "Y = np.concatenate((data[data[:, 2] == 1, 2], data[data[:, 2] == -1, 2]))\n",
    "\n",
    "X_axis = np.linspace(-1, 1)\n",
    "\n",
    "X_graph = X.reshape(p, int(N / 2)).T\n",
    "W_graph = W.reshape(p, int(N / 2)).T\n",
    "Y_graph = Y.reshape(p, int(N / 2)).T\n",
    "\n",
    "X = X.reshape(1, N).T\n",
    "W = W.reshape(1, N).T\n",
    "Y = Y.reshape(1, N).T"
   ]
  },
  {
   "cell_type": "code",
   "execution_count": 33,
   "metadata": {},
   "outputs": [],
   "source": [
    "# Pré-visualização do Gráfico\n",
    "# plt.scatter(X_graph[:, 0], W_graph[:, 0])\n",
    "# plt.scatter(X_graph[:, 1], W_graph[:, 1])"
   ]
  },
  {
   "cell_type": "code",
   "execution_count": 34,
   "metadata": {},
   "outputs": [
    {
     "name": "stdout",
     "output_type": "stream",
     "text": [
      "(2000, 1) (2000, 1)\n"
     ]
    }
   ],
   "source": [
    "# Início do Treino\n",
    "rounds = 0\n",
    "W_z = np.random.rand(1, 2000).T\n",
    "print(W.shape, W_z.shape)\n",
    "for epoca in range(epochs):\n",
    "    \n",
    "    # Separando conjunto de amostras de treinos e testes\n",
    "    \n",
    "    indexes = np.arange(N)\n",
    "    np.random.shuffle(indexes)\n",
    "    \n",
    "    ind_train = indexes[:int(N*size)]\n",
    "    ind_tests = indexes[int(N*size):]\n",
    "    \n",
    "    X_train, X_test = X[ind_train], X[ind_tests]\n",
    "    W_train, W_test = W[ind_train], W[ind_tests]\n",
    "    Y_train, Y_test = Y[ind_train], Y[ind_tests]\n",
    "    \n",
    "    for t in range(N):\n",
    "        x_t = X[t]\n",
    "        w_t = W_z[t]\n",
    "        u_t = np.dot(w_t.T, x_t)\n",
    "        y_t = sign(u_t)\n",
    "        d_t = Y[t]\n",
    "        e_t = d_t - y_t\n",
    "        W_z[t] = w_t + (lr * e_t * x_t) / 2\n",
    "    x2 = -W_z[1, 0] / W_z[2, 0] * X_axis + W_z[0, 0] / W_z[2, 0]\n",
    "    x2 = np.nan_to_num(x2)\n",
    "    \n",
    "# TO-DO: Obter acurácia, sensibilidade e especificidade"
   ]
  },
  {
   "cell_type": "code",
   "execution_count": 35,
   "metadata": {},
   "outputs": [
    {
     "name": "stdout",
     "output_type": "stream",
     "text": [
      "Acurácia: 0.53\n",
      "Sensibilidade: 0.40\n",
      "Especificidade: 0.65\n"
     ]
    },
    {
     "data": {
      "image/png": "[encoded data removed]",
      "text/plain": [
       "<Figure size 800x600 with 2 Axes>"
      ]
     },
     "metadata": {},
     "output_type": "display_data"
    }
   ],
   "source": [
    "predictions = np.array([sign(w_z.T @ x.T) for x, w_z in zip(X_test, W_test)])\n",
    "TP = np.sum((predictions == 1) & (Y_test.flatten() == 1))\n",
    "TN = np.sum((predictions == -1) & (Y_test.flatten() == -1))\n",
    "FP = np.sum((predictions == 1) & (Y_test.flatten() == -1))\n",
    "FN = np.sum((predictions == -1) & (Y_test.flatten() == 1))\n",
    "\n",
    "accuracy = (TP + TN) / (TP + TN + FP + FN)\n",
    "sensitivity = TP / (TP + FN) if (TP + FN) != 0 else 0\n",
    "specificity = TN / (TN + FP) if (TN + FP) != 0 else 0\n",
    "\n",
    "print(f\"Acurácia: {accuracy:.2f}\")\n",
    "print(f\"Sensibilidade: {sensitivity:.2f}\")\n",
    "print(f\"Especificidade: {specificity:.2f}\")\n",
    "\n",
    "confusion = np.array([[TP, FN], [FP, TN]])\n",
    "\n",
    "plt.figure(figsize=(8, 6))\n",
    "sns.heatmap(\n",
    "    confusion,\n",
    "    annot=True,\n",
    "    fmt=\"d\",\n",
    "    cmap=\"Blues\",\n",
    "    xticklabels=[\"Positivo\", \"Negativo\"],\n",
    "    yticklabels=[\"Verdadeiro\", \"Falso\"],\n",
    ")\n",
    "\n",
    "plt.xlabel(\"Predição\")\n",
    "plt.ylabel(\"Atual\")\n",
    "plt.title(\"Matriz de Confusão\")\n",
    "plt.show()\n",
    "\n",
    "# TODO: Curva de Aprendizado"
   ]
  }
 ],
 "metadata": {
  "kernelspec": {
   "display_name": ".venv",
   "language": "python",
   "name": "python3"
  },
  "language_info": {
   "codemirror_mode": {
    "name": "ipython",
    "version": 3
   },
   "file_extension": ".py",
   "mimetype": "text/x-python",
   "name": "python",
   "nbconvert_exporter": "python",
   "pygments_lexer": "ipython3",
   "version": "3.12.3"
  }
 },
 "nbformat": 4,
 "nbformat_minor": 2
}
